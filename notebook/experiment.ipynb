{
 "cells": [
  {
   "cell_type": "code",
   "execution_count": 1,
   "id": "8d3d583a",
   "metadata": {},
   "outputs": [],
   "source": [
    "import pandas as pd\n",
    "import matplotlib.pyplot as plt"
   ]
  },
  {
   "cell_type": "code",
   "execution_count": 2,
   "id": "4efe8da7",
   "metadata": {},
   "outputs": [
    {
     "data": {
      "text/html": [
       "<div>\n",
       "<style scoped>\n",
       "    .dataframe tbody tr th:only-of-type {\n",
       "        vertical-align: middle;\n",
       "    }\n",
       "\n",
       "    .dataframe tbody tr th {\n",
       "        vertical-align: top;\n",
       "    }\n",
       "\n",
       "    .dataframe thead th {\n",
       "        text-align: right;\n",
       "    }\n",
       "</style>\n",
       "<table border=\"1\" class=\"dataframe\">\n",
       "  <thead>\n",
       "    <tr style=\"text-align: right;\">\n",
       "      <th></th>\n",
       "      <th>Date</th>\n",
       "      <th>Location</th>\n",
       "      <th>MinTemp</th>\n",
       "      <th>MaxTemp</th>\n",
       "      <th>Rainfall</th>\n",
       "      <th>Evaporation</th>\n",
       "      <th>Sunshine</th>\n",
       "      <th>WindGustDir</th>\n",
       "      <th>WindGustSpeed</th>\n",
       "      <th>WindDir9am</th>\n",
       "      <th>...</th>\n",
       "      <th>Humidity9am</th>\n",
       "      <th>Humidity3pm</th>\n",
       "      <th>Pressure9am</th>\n",
       "      <th>Pressure3pm</th>\n",
       "      <th>Cloud9am</th>\n",
       "      <th>Cloud3pm</th>\n",
       "      <th>Temp9am</th>\n",
       "      <th>Temp3pm</th>\n",
       "      <th>RainToday</th>\n",
       "      <th>RainTomorrow</th>\n",
       "    </tr>\n",
       "  </thead>\n",
       "  <tbody>\n",
       "    <tr>\n",
       "      <th>0</th>\n",
       "      <td>2008-12-01</td>\n",
       "      <td>Albury</td>\n",
       "      <td>13.4</td>\n",
       "      <td>22.9</td>\n",
       "      <td>0.6</td>\n",
       "      <td>NaN</td>\n",
       "      <td>NaN</td>\n",
       "      <td>W</td>\n",
       "      <td>44.0</td>\n",
       "      <td>W</td>\n",
       "      <td>...</td>\n",
       "      <td>71.0</td>\n",
       "      <td>22.0</td>\n",
       "      <td>1007.7</td>\n",
       "      <td>1007.1</td>\n",
       "      <td>8.0</td>\n",
       "      <td>NaN</td>\n",
       "      <td>16.9</td>\n",
       "      <td>21.8</td>\n",
       "      <td>No</td>\n",
       "      <td>No</td>\n",
       "    </tr>\n",
       "    <tr>\n",
       "      <th>1</th>\n",
       "      <td>2008-12-02</td>\n",
       "      <td>Albury</td>\n",
       "      <td>7.4</td>\n",
       "      <td>25.1</td>\n",
       "      <td>0.0</td>\n",
       "      <td>NaN</td>\n",
       "      <td>NaN</td>\n",
       "      <td>WNW</td>\n",
       "      <td>44.0</td>\n",
       "      <td>NNW</td>\n",
       "      <td>...</td>\n",
       "      <td>44.0</td>\n",
       "      <td>25.0</td>\n",
       "      <td>1010.6</td>\n",
       "      <td>1007.8</td>\n",
       "      <td>NaN</td>\n",
       "      <td>NaN</td>\n",
       "      <td>17.2</td>\n",
       "      <td>24.3</td>\n",
       "      <td>No</td>\n",
       "      <td>No</td>\n",
       "    </tr>\n",
       "    <tr>\n",
       "      <th>2</th>\n",
       "      <td>2008-12-03</td>\n",
       "      <td>Albury</td>\n",
       "      <td>12.9</td>\n",
       "      <td>25.7</td>\n",
       "      <td>0.0</td>\n",
       "      <td>NaN</td>\n",
       "      <td>NaN</td>\n",
       "      <td>WSW</td>\n",
       "      <td>46.0</td>\n",
       "      <td>W</td>\n",
       "      <td>...</td>\n",
       "      <td>38.0</td>\n",
       "      <td>30.0</td>\n",
       "      <td>1007.6</td>\n",
       "      <td>1008.7</td>\n",
       "      <td>NaN</td>\n",
       "      <td>2.0</td>\n",
       "      <td>21.0</td>\n",
       "      <td>23.2</td>\n",
       "      <td>No</td>\n",
       "      <td>No</td>\n",
       "    </tr>\n",
       "    <tr>\n",
       "      <th>3</th>\n",
       "      <td>2008-12-04</td>\n",
       "      <td>Albury</td>\n",
       "      <td>9.2</td>\n",
       "      <td>28.0</td>\n",
       "      <td>0.0</td>\n",
       "      <td>NaN</td>\n",
       "      <td>NaN</td>\n",
       "      <td>NE</td>\n",
       "      <td>24.0</td>\n",
       "      <td>SE</td>\n",
       "      <td>...</td>\n",
       "      <td>45.0</td>\n",
       "      <td>16.0</td>\n",
       "      <td>1017.6</td>\n",
       "      <td>1012.8</td>\n",
       "      <td>NaN</td>\n",
       "      <td>NaN</td>\n",
       "      <td>18.1</td>\n",
       "      <td>26.5</td>\n",
       "      <td>No</td>\n",
       "      <td>No</td>\n",
       "    </tr>\n",
       "    <tr>\n",
       "      <th>4</th>\n",
       "      <td>2008-12-05</td>\n",
       "      <td>Albury</td>\n",
       "      <td>17.5</td>\n",
       "      <td>32.3</td>\n",
       "      <td>1.0</td>\n",
       "      <td>NaN</td>\n",
       "      <td>NaN</td>\n",
       "      <td>W</td>\n",
       "      <td>41.0</td>\n",
       "      <td>ENE</td>\n",
       "      <td>...</td>\n",
       "      <td>82.0</td>\n",
       "      <td>33.0</td>\n",
       "      <td>1010.8</td>\n",
       "      <td>1006.0</td>\n",
       "      <td>7.0</td>\n",
       "      <td>8.0</td>\n",
       "      <td>17.8</td>\n",
       "      <td>29.7</td>\n",
       "      <td>No</td>\n",
       "      <td>No</td>\n",
       "    </tr>\n",
       "  </tbody>\n",
       "</table>\n",
       "<p>5 rows × 23 columns</p>\n",
       "</div>"
      ],
      "text/plain": [
       "         Date Location  MinTemp  MaxTemp  Rainfall  Evaporation  Sunshine  \\\n",
       "0  2008-12-01   Albury     13.4     22.9       0.6          NaN       NaN   \n",
       "1  2008-12-02   Albury      7.4     25.1       0.0          NaN       NaN   \n",
       "2  2008-12-03   Albury     12.9     25.7       0.0          NaN       NaN   \n",
       "3  2008-12-04   Albury      9.2     28.0       0.0          NaN       NaN   \n",
       "4  2008-12-05   Albury     17.5     32.3       1.0          NaN       NaN   \n",
       "\n",
       "  WindGustDir  WindGustSpeed WindDir9am  ... Humidity9am  Humidity3pm  \\\n",
       "0           W           44.0          W  ...        71.0         22.0   \n",
       "1         WNW           44.0        NNW  ...        44.0         25.0   \n",
       "2         WSW           46.0          W  ...        38.0         30.0   \n",
       "3          NE           24.0         SE  ...        45.0         16.0   \n",
       "4           W           41.0        ENE  ...        82.0         33.0   \n",
       "\n",
       "   Pressure9am  Pressure3pm  Cloud9am  Cloud3pm  Temp9am  Temp3pm  RainToday  \\\n",
       "0       1007.7       1007.1       8.0       NaN     16.9     21.8         No   \n",
       "1       1010.6       1007.8       NaN       NaN     17.2     24.3         No   \n",
       "2       1007.6       1008.7       NaN       2.0     21.0     23.2         No   \n",
       "3       1017.6       1012.8       NaN       NaN     18.1     26.5         No   \n",
       "4       1010.8       1006.0       7.0       8.0     17.8     29.7         No   \n",
       "\n",
       "   RainTomorrow  \n",
       "0            No  \n",
       "1            No  \n",
       "2            No  \n",
       "3            No  \n",
       "4            No  \n",
       "\n",
       "[5 rows x 23 columns]"
      ]
     },
     "execution_count": 2,
     "metadata": {},
     "output_type": "execute_result"
    }
   ],
   "source": [
    "\n",
    "df = pd.read_csv(\"data/data.csv\")\n",
    "df.head()"
   ]
  },
  {
   "cell_type": "code",
   "execution_count": 3,
   "id": "6dcace58",
   "metadata": {},
   "outputs": [
    {
     "data": {
      "text/plain": [
       "array(['Albury', 'BadgerysCreek', 'Cobar', 'CoffsHarbour', 'Moree',\n",
       "       'Newcastle', 'NorahHead', 'NorfolkIsland', 'Penrith', 'Richmond',\n",
       "       'Sydney', 'SydneyAirport', 'WaggaWagga', 'Williamtown',\n",
       "       'Wollongong', 'Canberra', 'Tuggeranong', 'MountGinini', 'Ballarat',\n",
       "       'Bendigo', 'Sale', 'MelbourneAirport', 'Melbourne', 'Mildura',\n",
       "       'Nhil', 'Portland', 'Watsonia', 'Dartmoor', 'Brisbane', 'Cairns',\n",
       "       'GoldCoast', 'Townsville', 'Adelaide', 'MountGambier', 'Nuriootpa',\n",
       "       'Woomera', 'Albany', 'Witchcliffe', 'PearceRAAF', 'PerthAirport',\n",
       "       'Perth', 'SalmonGums', 'Walpole', 'Hobart', 'Launceston',\n",
       "       'AliceSprings', 'Darwin', 'Katherine', 'Uluru'], dtype=object)"
      ]
     },
     "execution_count": 3,
     "metadata": {},
     "output_type": "execute_result"
    }
   ],
   "source": [
    "df['Location'].unique()"
   ]
  },
  {
   "cell_type": "code",
   "execution_count": 4,
   "id": "24cd4473",
   "metadata": {},
   "outputs": [
    {
     "data": {
      "text/plain": [
       "array([6.000e-01, 0.000e+00, 1.000e+00, 2.000e-01, 1.400e+00, 2.200e+00,\n",
       "       1.560e+01, 3.600e+00,       nan, 1.680e+01, 1.060e+01, 1.200e+00,\n",
       "       8.000e-01, 6.400e+00, 4.000e-01, 3.000e+00, 5.800e+00, 1.160e+01,\n",
       "       1.800e+00, 8.600e+00, 1.260e+01, 8.400e+00, 6.200e+00, 2.000e+01,\n",
       "       2.100e+01, 3.200e+00, 4.800e+00, 4.200e+00, 8.000e+00, 1.440e+01,\n",
       "       4.600e+00, 2.000e+00, 5.600e+00, 1.600e+00, 6.000e+00, 4.400e+00,\n",
       "       5.400e+00, 5.000e+00, 7.800e+00, 6.800e+00, 9.800e+00, 3.800e+00,\n",
       "       2.400e+00, 5.200e+00, 6.600e+00, 1.340e+01, 1.020e+01, 2.880e+01,\n",
       "       7.000e+00, 2.580e+01, 9.400e+00, 1.240e+01, 5.220e+01, 2.060e+01,\n",
       "       6.600e+01, 1.100e+01, 1.700e+01, 1.040e+01, 2.800e+01, 2.140e+01,\n",
       "       1.860e+01, 7.200e+00, 8.200e+00, 1.080e+01, 1.540e+01, 9.600e+00,\n",
       "       4.000e+00, 2.180e+01, 2.080e+01, 2.480e+01, 1.000e+01, 1.140e+01,\n",
       "       1.900e+01, 2.220e+01, 3.280e+01, 3.400e+00, 5.080e+01, 5.260e+01,\n",
       "       1.920e+01, 1.880e+01, 1.480e+01, 1.200e+01, 1.840e+01, 2.560e+01,\n",
       "       3.500e+01, 1.420e+01, 1.380e+01, 2.600e+00, 9.920e+01, 5.100e+01,\n",
       "       3.980e+01, 2.820e+01, 1.220e+01, 1.280e+01, 1.180e+01, 1.980e+01,\n",
       "       1.740e+01, 8.800e+00, 1.620e+01, 1.460e+01, 2.800e+00, 3.080e+01,\n",
       "       2.840e+01, 3.480e+01, 4.400e+01, 1.400e+01, 1.660e+01, 9.000e+00,\n",
       "       2.680e+01, 3.840e+01, 1.042e+02, 3.660e+01, 3.420e+01, 2.940e+01,\n",
       "       2.720e+01, 1.120e+01, 1.320e+01, 3.340e+01, 7.600e+00, 2.460e+01,\n",
       "       7.400e+00, 1.600e+01, 1.940e+01, 5.340e+01, 1.500e+01, 3.360e+01,\n",
       "       1.720e+01, 3.740e+01, 1.300e+01, 3.100e+01, 9.200e+00, 6.620e+01,\n",
       "       3.640e+01, 4.100e+01, 2.440e+01, 2.700e+01, 4.680e+01, 1.580e+01,\n",
       "       3.580e+01, 2.240e+01, 1.640e+01, 1.520e+01, 2.300e+01, 2.280e+01,\n",
       "       2.860e+01, 4.600e+01, 2.420e+01, 2.200e+01, 1.800e+01, 3.120e+01,\n",
       "       2.120e+01, 3.600e+01, 2.340e+01, 3.200e+01, 4.640e+01, 1.360e+01,\n",
       "       4.200e+01, 3.380e+01, 2.540e+01, 2.040e+01, 2.260e+01, 4.320e+01,\n",
       "       6.140e+01, 4.820e+01, 4.860e+01, 1.820e+01, 6.780e+01, 3.920e+01,\n",
       "       3.180e+01, 8.240e+01, 3.540e+01, 1.160e+02, 3.060e+01, 1.780e+01,\n",
       "       3.820e+01, 3.020e+01, 2.400e+01, 4.700e+01, 4.240e+01, 3.300e+01,\n",
       "       4.000e+01, 4.420e+01, 3.460e+01, 3.040e+01, 3.880e+01, 8.360e+01,\n",
       "       5.020e+01, 2.620e+01, 3.800e+01, 3.160e+01, 2.780e+01, 2.980e+01,\n",
       "       1.760e+01, 1.002e+02, 1.092e+02, 2.360e+01, 3.260e+01, 2.160e+01,\n",
       "       5.400e+01, 3.960e+01, 2.600e+01, 3.400e+01, 4.940e+01, 3.700e+01,\n",
       "       2.920e+01, 6.800e+01, 3.320e+01, 2.740e+01, 3.900e+01, 3.860e+01,\n",
       "       4.300e+01, 4.500e+00, 2.910e+01, 2.900e+00, 1.300e+00, 3.000e+01,\n",
       "       6.360e+01, 1.890e+02, 5.860e+01, 6.260e+01, 5.900e+01, 2.020e+01,\n",
       "       4.280e+01, 7.600e+01, 1.960e+01, 5.580e+01, 7.000e+01, 7.120e+01,\n",
       "       1.418e+02, 9.600e+01, 3.710e+02, 5.800e+01, 6.700e+01, 8.060e+01,\n",
       "       5.660e+01, 4.520e+01, 5.940e+01, 4.260e+01, 3.440e+01, 9.000e+01,\n",
       "       1.280e+02, 6.120e+01, 2.380e+01, 2.760e+01, 7.380e+01, 7.220e+01,\n",
       "       1.054e+02, 4.040e+01, 1.020e+02, 4.440e+01, 4.800e+01, 6.380e+01,\n",
       "       3.680e+01, 5.500e+00, 2.520e+01, 1.034e+02, 1.276e+02, 6.320e+01,\n",
       "       5.240e+01, 2.500e+01, 5.500e+01, 5.680e+01, 7.080e+01, 6.240e+01,\n",
       "       1.120e+02, 1.532e+02, 4.580e+01, 9.700e+01, 5.180e+01, 8.640e+01,\n",
       "       5.000e-01, 1.598e+02, 2.085e+02, 1.722e+02, 9.000e-01, 2.500e+00,\n",
       "       3.000e-01, 1.700e+00, 3.300e+00, 5.120e+01, 1.064e+02, 1.478e+02,\n",
       "       4.560e+01, 5.960e+01, 2.900e+01, 1.170e+01, 7.500e+01, 7.640e+01,\n",
       "       6.400e+01, 5.320e+01, 1.004e+02, 1.000e-01, 6.580e+01, 8.500e+00,\n",
       "       3.240e+01, 1.578e+02, 4.100e+00, 1.138e+02, 7.000e-01, 3.100e+00,\n",
       "       1.500e+00, 3.220e+01, 3.270e+01, 1.010e+01, 1.110e+01, 9.610e+01,\n",
       "       4.980e+01, 2.196e+02, 1.094e+02, 3.500e+00, 2.640e+01, 2.960e+01,\n",
       "       3.620e+01, 3.760e+01, 4.380e+01, 4.150e+01, 5.060e+01, 1.428e+02,\n",
       "       1.062e+02, 1.048e+02, 2.700e+00, 3.110e+01, 1.390e+01, 7.100e+01,\n",
       "       9.060e+01, 6.480e+01, 4.760e+01, 5.140e+01, 2.660e+01, 4.880e+01,\n",
       "       3.720e+01, 3.940e+01, 1.130e+02, 7.440e+01, 9.280e+01, 4.020e+01,\n",
       "       7.680e+01, 5.460e+01, 4.480e+01, 4.460e+01, 5.000e+01, 2.270e+01,\n",
       "       2.090e+01, 5.980e+01, 4.540e+01, 1.472e+02, 3.520e+01, 7.140e+01,\n",
       "       3.140e+01, 2.370e+01, 4.220e+01, 7.560e+01, 4.180e+01, 4.360e+01,\n",
       "       4.900e+00, 3.560e+01, 2.650e+01, 4.900e+01, 3.390e+01, 3.070e+01,\n",
       "       5.300e+00, 1.070e+01, 6.410e+01, 5.040e+01, 4.550e+01, 6.900e+00,\n",
       "       6.880e+01, 7.760e+01, 8.980e+01, 6.980e+01, 3.250e+01, 1.325e+02,\n",
       "       1.570e+01, 2.250e+01, 2.400e+02, 4.120e+01, 6.300e+00, 5.820e+01,\n",
       "       3.790e+01, 2.950e+01, 5.200e+01, 2.150e+01, 2.163e+02, 1.250e+01,\n",
       "       2.300e+00, 5.160e+01, 2.070e+01, 6.340e+01, 7.420e+01, 2.320e+01,\n",
       "       4.340e+01, 5.600e+01, 4.060e+01, 4.780e+01, 4.840e+01, 6.920e+01,\n",
       "       5.560e+01, 6.180e+01, 7.300e+01, 8.340e+01, 3.780e+01, 1.264e+02,\n",
       "       4.720e+01, 5.920e+01, 1.202e+02, 5.620e+01, 8.900e+01, 7.620e+01,\n",
       "       8.280e+01, 6.960e+01, 7.200e+01, 4.080e+01, 1.074e+02, 7.160e+01,\n",
       "       2.990e+01, 1.422e+02, 7.980e+01, 8.480e+01, 1.056e+02, 5.760e+01,\n",
       "       4.500e+01, 6.220e+01, 1.110e+02, 1.226e+02, 5.480e+01, 6.100e+01,\n",
       "       6.160e+01, 1.568e+02, 3.990e+01, 2.100e+00, 1.900e+00, 1.100e+00,\n",
       "       4.700e+00, 5.700e+00, 9.220e+01, 1.154e+02, 1.018e+02, 4.960e+01,\n",
       "       8.560e+01, 8.140e+01, 8.160e+01, 6.760e+01, 5.840e+01, 4.160e+01,\n",
       "       5.640e+01, 1.118e+02, 4.740e+01, 1.134e+02, 7.400e+01, 7.060e+01,\n",
       "       7.840e+01, 6.860e+01, 7.740e+01, 7.320e+01, 9.940e+01, 6.520e+01,\n",
       "       8.820e+01, 5.740e+01, 9.520e+01, 5.700e+01, 1.194e+02, 1.058e+02,\n",
       "       5.440e+01, 4.140e+01, 9.440e+01, 6.440e+01, 9.380e+01, 6.840e+01,\n",
       "       5.280e+01, 8.500e+01, 8.320e+01, 1.060e+02, 6.020e+01, 9.100e+01,\n",
       "       5.360e+01, 1.046e+02, 8.040e+01, 1.068e+02, 8.860e+01, 7.280e+01,\n",
       "       6.280e+01, 4.660e+01, 9.560e+01, 5.300e+01, 5.420e+01, 1.108e+02,\n",
       "       5.780e+01, 1.230e+01, 2.290e+01, 1.330e+01, 1.348e+02, 8.440e+01,\n",
       "       4.620e+01, 6.420e+01, 8.680e+01, 1.576e+02, 1.668e+02, 1.560e+02,\n",
       "       1.144e+02, 8.180e+01, 2.250e+02, 8.700e+00, 9.140e+01, 1.810e+01,\n",
       "       4.920e+01, 6.080e+01, 9.720e+01, 8.260e+01, 7.860e+01, 5.380e+01,\n",
       "       7.260e+01, 1.390e+02, 5.880e+01, 6.500e+01, 7.900e+01, 7.580e+01,\n",
       "       5.520e+01, 1.920e+02, 8.080e+01, 1.180e+02, 9.640e+01, 1.642e+02,\n",
       "       6.940e+01, 7.520e+01, 5.540e+01, 8.700e+01, 9.300e+01, 9.160e+01,\n",
       "       8.420e+01, 8.760e+01, 7.800e+01, 7.340e+01, 1.022e+02, 6.040e+01,\n",
       "       8.940e+01, 1.076e+02, 8.380e+01, 7.820e+01, 8.800e+01, 9.500e+01,\n",
       "       7.040e+01, 6.640e+01, 8.220e+01, 1.550e+02, 6.000e+01, 6.560e+01,\n",
       "       6.300e+01, 8.400e+01, 8.740e+01, 8.300e+01, 7.360e+01, 7.720e+01,\n",
       "       7.940e+01, 1.214e+02, 6.060e+01, 9.360e+01, 1.684e+02, 1.450e+02,\n",
       "       9.400e+01, 8.920e+01, 6.820e+01, 1.826e+02, 1.106e+02, 9.800e+01,\n",
       "       2.784e+02, 1.402e+02, 6.200e+01, 1.216e+02, 7.180e+01, 1.158e+02,\n",
       "       7.920e+01, 2.686e+02, 1.830e+02, 1.096e+02, 1.282e+02, 2.062e+02,\n",
       "       1.366e+02, 1.502e+02, 1.616e+02, 1.090e+02, 1.152e+02, 1.752e+02,\n",
       "       2.472e+02, 8.540e+01, 1.052e+02, 7.480e+01, 1.150e+02, 1.260e+02,\n",
       "       8.460e+01, 1.580e+02, 7.780e+01, 6.460e+01, 1.182e+02, 1.438e+02,\n",
       "       1.186e+02, 1.122e+02, 1.782e+02, 1.834e+02, 1.082e+02, 1.558e+02,\n",
       "       1.112e+02, 1.284e+02, 8.020e+01, 1.290e+02, 1.050e+02, 1.776e+02,\n",
       "       8.620e+01, 2.368e+02, 9.340e+01, 7.960e+01, 2.068e+02, 8.120e+01,\n",
       "       9.260e+01, 1.652e+02, 1.704e+02, 9.320e+01, 9.820e+01, 1.486e+02,\n",
       "       7.020e+01, 1.442e+02, 1.646e+02, 1.746e+02, 8.780e+01, 1.248e+02,\n",
       "       1.208e+02, 7.880e+01, 7.660e+01, 1.190e+01, 9.500e+00, 1.050e+01,\n",
       "       7.100e+00, 6.500e+00, 6.100e+00, 3.430e+01, 3.900e+00, 6.700e+00,\n",
       "       1.270e+01, 1.590e+01, 1.450e+01, 2.930e+01, 2.390e+01, 8.900e+00,\n",
       "       9.100e+00, 1.310e+01, 1.090e+01, 1.850e+01, 6.540e+01, 7.500e+00,\n",
       "       4.730e+01, 5.900e+00, 1.970e+01, 1.210e+01, 1.150e+01, 7.900e+00,\n",
       "       2.530e+01, 1.750e+01, 7.300e+00, 9.900e+00, 1.550e+01, 8.100e+01,\n",
       "       9.580e+01, 9.040e+01, 1.412e+02, 1.622e+02, 1.364e+02, 1.314e+02,\n",
       "       1.326e+02, 3.676e+02, 1.846e+02, 1.822e+02, 1.452e+02, 9.680e+01,\n",
       "       7.460e+01, 1.294e+02, 1.228e+02, 1.098e+02, 1.456e+02, 2.106e+02,\n",
       "       1.176e+02, 6.950e+01, 1.670e+02, 6.900e+01])"
      ]
     },
     "execution_count": 4,
     "metadata": {},
     "output_type": "execute_result"
    }
   ],
   "source": [
    "df['Rainfall'].unique()"
   ]
  },
  {
   "cell_type": "code",
   "execution_count": 5,
   "id": "d031a619",
   "metadata": {},
   "outputs": [
    {
     "data": {
      "text/plain": [
       "array(['W', 'WNW', 'WSW', 'NE', 'NNW', 'N', 'NNE', 'SW', nan, 'ENE',\n",
       "       'SSE', 'S', 'NW', 'SE', 'ESE', 'E', 'SSW'], dtype=object)"
      ]
     },
     "execution_count": 5,
     "metadata": {},
     "output_type": "execute_result"
    }
   ],
   "source": [
    "df['WindGustDir'].unique()"
   ]
  },
  {
   "cell_type": "code",
   "execution_count": 6,
   "id": "3c281b20",
   "metadata": {},
   "outputs": [
    {
     "data": {
      "text/plain": [
       "array(['W', 'NNW', 'SE', 'ENE', 'SW', 'SSE', 'S', 'NE', nan, 'SSW', 'N',\n",
       "       'WSW', 'ESE', 'E', 'NW', 'WNW', 'NNE'], dtype=object)"
      ]
     },
     "execution_count": 6,
     "metadata": {},
     "output_type": "execute_result"
    }
   ],
   "source": [
    "df['WindDir9am'].unique()"
   ]
  },
  {
   "cell_type": "code",
   "execution_count": 7,
   "id": "f353eebe",
   "metadata": {},
   "outputs": [
    {
     "name": "stdout",
     "output_type": "stream",
     "text": [
      "<class 'pandas.core.frame.DataFrame'>\n",
      "RangeIndex: 145460 entries, 0 to 145459\n",
      "Data columns (total 23 columns):\n",
      " #   Column         Non-Null Count   Dtype  \n",
      "---  ------         --------------   -----  \n",
      " 0   Date           145460 non-null  object \n",
      " 1   Location       145460 non-null  object \n",
      " 2   MinTemp        143975 non-null  float64\n",
      " 3   MaxTemp        144199 non-null  float64\n",
      " 4   Rainfall       142199 non-null  float64\n",
      " 5   Evaporation    82670 non-null   float64\n",
      " 6   Sunshine       75625 non-null   float64\n",
      " 7   WindGustDir    135134 non-null  object \n",
      " 8   WindGustSpeed  135197 non-null  float64\n",
      " 9   WindDir9am     134894 non-null  object \n",
      " 10  WindDir3pm     141232 non-null  object \n",
      " 11  WindSpeed9am   143693 non-null  float64\n",
      " 12  WindSpeed3pm   142398 non-null  float64\n",
      " 13  Humidity9am    142806 non-null  float64\n",
      " 14  Humidity3pm    140953 non-null  float64\n",
      " 15  Pressure9am    130395 non-null  float64\n",
      " 16  Pressure3pm    130432 non-null  float64\n",
      " 17  Cloud9am       89572 non-null   float64\n",
      " 18  Cloud3pm       86102 non-null   float64\n",
      " 19  Temp9am        143693 non-null  float64\n",
      " 20  Temp3pm        141851 non-null  float64\n",
      " 21  RainToday      142199 non-null  object \n",
      " 22  RainTomorrow   142193 non-null  object \n",
      "dtypes: float64(16), object(7)\n",
      "memory usage: 25.5+ MB\n"
     ]
    }
   ],
   "source": [
    "df.info()"
   ]
  },
  {
   "cell_type": "code",
   "execution_count": 9,
   "id": "d4d35388",
   "metadata": {},
   "outputs": [
    {
     "data": {
      "text/plain": [
       "array([ 20.,   4.,  19.,  11.,   7.,   6.,  15.,  17.,  28.,  24.,  nan,\n",
       "         9.,   0.,  13.,   2.,  26.,  30.,  22.,  35.,  37.,  31.,  33.,\n",
       "        48.,  39.,  44.,  43.,  41.,  46.,  56.,  83.,  74.,  52.,  65.,\n",
       "        50., 130.,  54.,  61.,  57.,  59.,  87.,  67.,  63.,  69.,  72.])"
      ]
     },
     "execution_count": 9,
     "metadata": {},
     "output_type": "execute_result"
    }
   ],
   "source": [
    "df['WindSpeed9am'].unique()"
   ]
  },
  {
   "cell_type": "code",
   "execution_count": 8,
   "id": "6316c04f",
   "metadata": {},
   "outputs": [
    {
     "data": {
      "text/plain": [
       "array(['WNW', 'WSW', 'E', 'NW', 'W', 'SSE', 'ESE', 'ENE', 'NNW', 'SSW',\n",
       "       'SW', 'SE', 'N', 'S', 'NNE', nan, 'NE'], dtype=object)"
      ]
     },
     "execution_count": 8,
     "metadata": {},
     "output_type": "execute_result"
    }
   ],
   "source": [
    "df['WindDir3pm'].unique()"
   ]
  },
  {
   "cell_type": "code",
   "execution_count": 10,
   "id": "f36e1776",
   "metadata": {},
   "outputs": [
    {
     "data": {
      "text/plain": [
       "array(['No', 'Yes', nan], dtype=object)"
      ]
     },
     "execution_count": 10,
     "metadata": {},
     "output_type": "execute_result"
    }
   ],
   "source": [
    "df['RainToday'].unique()"
   ]
  },
  {
   "cell_type": "code",
   "execution_count": 11,
   "id": "eb7baf01",
   "metadata": {},
   "outputs": [
    {
     "data": {
      "text/plain": [
       "array(['No', 'Yes', nan], dtype=object)"
      ]
     },
     "execution_count": 11,
     "metadata": {},
     "output_type": "execute_result"
    }
   ],
   "source": [
    "df['RainTomorrow'].unique()"
   ]
  },
  {
   "cell_type": "code",
   "execution_count": null,
   "id": "6906c7ba",
   "metadata": {},
   "outputs": [],
   "source": []
  }
 ],
 "metadata": {
  "kernelspec": {
   "display_name": "Python 3",
   "language": "python",
   "name": "python3"
  },
  "language_info": {
   "codemirror_mode": {
    "name": "ipython",
    "version": 3
   },
   "file_extension": ".py",
   "mimetype": "text/x-python",
   "name": "python",
   "nbconvert_exporter": "python",
   "pygments_lexer": "ipython3",
   "version": "3.10.0"
  }
 },
 "nbformat": 4,
 "nbformat_minor": 5
}
